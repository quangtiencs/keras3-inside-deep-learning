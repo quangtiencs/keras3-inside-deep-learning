{
 "cells": [
  {
   "cell_type": "code",
   "metadata": {
    "ExecuteTime": {
     "end_time": "2025-02-17T18:37:13.860035Z",
     "start_time": "2025-02-17T18:37:13.614894Z"
    }
   },
   "source": [
    "import os\n",
    "\n",
    "os.environ[\"JAX_ENABLE_X64\"] = \"True\"\n",
    "\n",
    "import matplotlib.pyplot as plt\n",
    "import seaborn as sns\n",
    "\n",
    "import optax\n",
    "import jax\n",
    "import jax.numpy as jnp\n",
    "from jax import random as jax_random\n",
    "\n",
    "plt.style.use(\"seaborn-v0_8-notebook\")\n",
    "plt.style.use(\"petroff10\")"
   ],
   "outputs": [],
   "execution_count": 1
  },
  {
   "cell_type": "code",
   "metadata": {
    "ExecuteTime": {
     "end_time": "2025-02-17T18:37:13.916797Z",
     "start_time": "2025-02-17T18:37:13.863144Z"
    }
   },
   "source": "key_random = jax.random.key(12)",
   "outputs": [],
   "execution_count": 2
  },
  {
   "cell_type": "code",
   "metadata": {
    "ExecuteTime": {
     "end_time": "2025-02-17T18:37:14.003253Z",
     "start_time": "2025-02-17T18:37:14.000386Z"
    }
   },
   "source": [
    "print(f\"Jax version {jax.__version__}\")"
   ],
   "outputs": [
    {
     "name": "stdout",
     "output_type": "stream",
     "text": [
      "Jax version 0.5.0\n"
     ]
    }
   ],
   "execution_count": 3
  },
  {
   "cell_type": "code",
   "metadata": {
    "ExecuteTime": {
     "end_time": "2025-02-17T18:37:14.079164Z",
     "start_time": "2025-02-17T18:37:14.015991Z"
    }
   },
   "source": [
    "jax_scalar = jnp.array(3.14)\n",
    "jax_vector = jnp.array([1, 2, 3, 4])\n",
    "jax_matrix = jnp.array([[1, 2], [3, 4], [5, 6], [7, 8]])\n",
    "jax_tensor3d = jnp.array(\n",
    "    [\n",
    "        [[1, 2, 3], [4, 5, 6]],\n",
    "        [[7, 8, 9], [10, 11, 12]],\n",
    "        [[13, 14, 15], [16, 17, 18]],\n",
    "        [\n",
    "            [19, 20, 21],\n",
    "            [22, 23, 24],\n",
    "        ],\n",
    "    ]\n",
    ")"
   ],
   "outputs": [],
   "execution_count": 4
  },
  {
   "cell_type": "code",
   "metadata": {
    "ExecuteTime": {
     "end_time": "2025-02-17T18:37:14.083879Z",
     "start_time": "2025-02-17T18:37:14.082039Z"
    }
   },
   "source": [
    "print(jax_scalar.shape)\n",
    "print(jax_vector.shape)\n",
    "print(jax_matrix.shape)\n",
    "print(jax_tensor3d.shape)"
   ],
   "outputs": [
    {
     "name": "stdout",
     "output_type": "stream",
     "text": [
      "()\n",
      "(4,)\n",
      "(4, 2)\n",
      "(4, 2, 3)\n"
     ]
    }
   ],
   "execution_count": 5
  },
  {
   "cell_type": "code",
   "metadata": {
    "ExecuteTime": {
     "end_time": "2025-02-17T18:37:14.151472Z",
     "start_time": "2025-02-17T18:37:14.088869Z"
    }
   },
   "source": [
    "x_jax_32 = jax_random.normal(key_random, shape=(4, 4), dtype=jnp.float32)\n",
    "print(x_jax_32.dtype)\n",
    "print(x_jax_32)"
   ],
   "outputs": [
    {
     "name": "stdout",
     "output_type": "stream",
     "text": [
      "float32\n",
      "[[ 0.25540063  0.08309579  0.11247405 -0.7555607 ]\n",
      " [ 0.14588562 -2.022738    1.9076333   0.70139664]\n",
      " [-0.1720313  -1.2885561   1.7282716   0.18993305]\n",
      " [ 1.3156701   1.0032809  -1.5069588  -1.0568671 ]]\n"
     ]
    }
   ],
   "execution_count": 6
  },
  {
   "cell_type": "code",
   "metadata": {
    "ExecuteTime": {
     "end_time": "2025-02-17T18:37:14.176575Z",
     "start_time": "2025-02-17T18:37:14.156462Z"
    }
   },
   "source": [
    "x_jax_64 = jnp.asarray(x_jax_32, dtype=jnp.float64)\n",
    "print(x_jax_32.dtype, x_jax_64.dtype)"
   ],
   "outputs": [
    {
     "name": "stdout",
     "output_type": "stream",
     "text": [
      "float32 float64\n"
     ]
    }
   ],
   "execution_count": 7
  },
  {
   "cell_type": "code",
   "metadata": {
    "ExecuteTime": {
     "end_time": "2025-02-17T18:37:14.207956Z",
     "start_time": "2025-02-17T18:37:14.187559Z"
    }
   },
   "source": [
    "b_np = x_jax_64 > 0.5\n",
    "print(b_np)\n",
    "print(b_np.dtype)"
   ],
   "outputs": [
    {
     "name": "stdout",
     "output_type": "stream",
     "text": [
      "[[False False False False]\n",
      " [False False  True  True]\n",
      " [False False  True False]\n",
      " [ True  True False False]]\n",
      "bool\n"
     ]
    }
   ],
   "execution_count": 8
  },
  {
   "cell_type": "code",
   "metadata": {
    "ExecuteTime": {
     "end_time": "2025-02-17T18:37:14.240681Z",
     "start_time": "2025-02-17T18:37:14.216310Z"
    }
   },
   "source": [
    "jnp.sum(x_jax_32)"
   ],
   "outputs": [
    {
     "data": {
      "text/plain": [
       "Array(0.6403296, dtype=float32)"
      ]
     },
     "execution_count": 9,
     "metadata": {},
     "output_type": "execute_result"
    }
   ],
   "execution_count": 9
  },
  {
   "cell_type": "code",
   "metadata": {
    "ExecuteTime": {
     "end_time": "2025-02-17T18:37:14.267851Z",
     "start_time": "2025-02-17T18:37:14.246658Z"
    }
   },
   "source": [
    "jnp.transpose(x_jax_32)"
   ],
   "outputs": [
    {
     "data": {
      "text/plain": [
       "Array([[ 0.25540063,  0.14588562, -0.1720313 ,  1.3156701 ],\n",
       "       [ 0.08309579, -2.022738  , -1.2885561 ,  1.0032809 ],\n",
       "       [ 0.11247405,  1.9076333 ,  1.7282716 , -1.5069588 ],\n",
       "       [-0.7555607 ,  0.70139664,  0.18993305, -1.0568671 ]],      dtype=float32)"
      ]
     },
     "execution_count": 10,
     "metadata": {},
     "output_type": "execute_result"
    }
   ],
   "execution_count": 10
  },
  {
   "cell_type": "code",
   "metadata": {
    "ExecuteTime": {
     "end_time": "2025-02-17T18:37:14.277389Z",
     "start_time": "2025-02-17T18:37:14.274612Z"
    }
   },
   "source": [
    "x_jax_32.T"
   ],
   "outputs": [
    {
     "data": {
      "text/plain": [
       "Array([[ 0.25540063,  0.14588562, -0.1720313 ,  1.3156701 ],\n",
       "       [ 0.08309579, -2.022738  , -1.2885561 ,  1.0032809 ],\n",
       "       [ 0.11247405,  1.9076333 ,  1.7282716 , -1.5069588 ],\n",
       "       [-0.7555607 ,  0.70139664,  0.18993305, -1.0568671 ]],      dtype=float32)"
      ]
     },
     "execution_count": 11,
     "metadata": {},
     "output_type": "execute_result"
    }
   ],
   "execution_count": 11
  },
  {
   "cell_type": "code",
   "metadata": {
    "ExecuteTime": {
     "end_time": "2025-02-17T18:37:14.306137Z",
     "start_time": "2025-02-17T18:37:14.284782Z"
    }
   },
   "source": [
    "print(jnp.transpose(jax_tensor3d, axes=[2, 1, 0]).shape)"
   ],
   "outputs": [
    {
     "name": "stdout",
     "output_type": "stream",
     "text": [
      "(3, 2, 4)\n"
     ]
    }
   ],
   "execution_count": 12
  },
  {
   "cell_type": "code",
   "metadata": {
    "ExecuteTime": {
     "end_time": "2025-02-17T18:37:14.314182Z",
     "start_time": "2025-02-17T18:37:14.312590Z"
    }
   },
   "source": [
    "# TODO: change device"
   ],
   "outputs": [],
   "execution_count": 13
  },
  {
   "cell_type": "code",
   "metadata": {
    "ExecuteTime": {
     "end_time": "2025-02-17T18:37:14.509452Z",
     "start_time": "2025-02-17T18:37:14.318367Z"
    }
   },
   "source": [
    "def f(x):\n",
    "    return jnp.pow((x - 2.0), 2)\n",
    "\n",
    "\n",
    "x_axis_vals = jnp.linspace(-7, 9, 100)\n",
    "y_axis_vals = f(jnp.array(x_axis_vals))\n",
    "\n",
    "sns.lineplot(x=x_axis_vals, y=y_axis_vals, label=\"$f(x)=(x-2)^2$\")"
   ],
   "outputs": [
    {
     "data": {
      "text/plain": [
       "<Axes: >"
      ]
     },
     "execution_count": 14,
     "metadata": {},
     "output_type": "execute_result"
    },
    {
     "data": {
      "text/plain": [
       "<Figure size 800x550 with 1 Axes>"
      ],
      "image/png": "[encoded data removed]"
     },
     "metadata": {},
     "output_type": "display_data"
    }
   ],
   "execution_count": 14
  },
  {
   "cell_type": "code",
   "metadata": {
    "ExecuteTime": {
     "end_time": "2025-02-17T18:37:14.777769Z",
     "start_time": "2025-02-17T18:37:14.521369Z"
    }
   },
   "source": [
    "def fP(x):  # Defining the derivative of f(x) manually\n",
    "    return 2 * x - 4\n",
    "\n",
    "\n",
    "jax_grad_fP = jax.vmap(jax.grad(f))\n",
    "\n",
    "y_axis_vals_p = fP(jnp.array(x_axis_vals))\n",
    "y_axis_vals_p_jax = jax_grad_fP(jnp.array(x_axis_vals))\n",
    "\n",
    "# First, lets draw a black line at 0, so that we can easily tell if something is positive or negative\n",
    "sns.lineplot(x=x_axis_vals, y=[0.0] * len(x_axis_vals), label=\"0\", color=\"black\")\n",
    "sns.lineplot(x=x_axis_vals, y=y_axis_vals, label=\"$f(x) = (x-2)^2$\")\n",
    "\n",
    "# sns.lineplot(x=x_axis_vals, y=y_axis_vals_p, label=\"$f'(x)=2 x - 4$\")\n",
    "sns.lineplot(x=x_axis_vals, y=y_axis_vals_p_jax, label=\"jax $f'(x)=2 x - 4$\")"
   ],
   "outputs": [
    {
     "data": {
      "text/plain": [
       "<Axes: >"
      ]
     },
     "execution_count": 15,
     "metadata": {},
     "output_type": "execute_result"
    },
    {
     "data": {
      "text/plain": [
       "<Figure size 800x550 with 1 Axes>"
      ],
      "image/png": "[encoded data removed]"
     },
     "metadata": {},
     "output_type": "display_data"
    }
   ],
   "execution_count": 15
  },
  {
   "cell_type": "code",
   "metadata": {
    "ExecuteTime": {
     "end_time": "2025-02-17T18:37:15.070317Z",
     "start_time": "2025-02-17T18:37:14.787267Z"
    }
   },
   "source": [
    "x = jnp.array([-3.5])\n",
    "\n",
    "x_cur = x.clone()\n",
    "x_prev = x_cur * 100  # Make the initial \"previous\" solution larger\n",
    "epsilon = 1e-8\n",
    "eta = 0.1\n",
    "\n",
    "grad_f = jax.vmap(jax.grad(f))\n",
    "while jnp.linalg.norm(x_cur - x_prev) > epsilon:\n",
    "    x_prev = x_cur.clone()\n",
    "    x_cur = x_cur - eta * grad_f(x_cur)\n",
    "\n",
    "print(x_cur)"
   ],
   "outputs": [
    {
     "name": "stdout",
     "output_type": "stream",
     "text": [
      "[1.99999996]\n"
     ]
    }
   ],
   "execution_count": 16
  },
  {
   "cell_type": "code",
   "metadata": {
    "ExecuteTime": {
     "end_time": "2025-02-17T18:37:15.533505Z",
     "start_time": "2025-02-17T18:37:15.077058Z"
    }
   },
   "source": [
    "optimizer = optax.sgd(eta)\n",
    "\n",
    "# Initialize parameters of the model + optimizer.\n",
    "x_param = jnp.array(-3.5)\n",
    "opt_state = optimizer.init(x_param)\n",
    "grad_f = jax.grad(f)\n",
    "\n",
    "for epoch in range(60):\n",
    "    g = grad_f(x_param)\n",
    "    updates, opt_state = optimizer.update(g, opt_state)\n",
    "    x_param = optax.apply_updates(x_param, updates)\n",
    "print(x_param)"
   ],
   "outputs": [
    {
     "name": "stdout",
     "output_type": "stream",
     "text": [
      "1.9999915712745253\n"
     ]
    }
   ],
   "execution_count": 17
  }
 ],
 "metadata": {
  "kernelspec": {
   "display_name": "py-3-12-science-victory",
   "language": "python",
   "name": "python3"
  },
  "language_info": {
   "codemirror_mode": {
    "name": "ipython",
    "version": 3
   },
   "file_extension": ".py",
   "mimetype": "text/x-python",
   "name": "python",
   "nbconvert_exporter": "python",
   "pygments_lexer": "ipython3",
   "version": "3.12.3"
  }
 },
 "nbformat": 4,
 "nbformat_minor": 2
}
