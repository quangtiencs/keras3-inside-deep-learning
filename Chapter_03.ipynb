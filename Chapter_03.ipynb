{
 "cells": [
  {
   "cell_type": "code",
   "metadata": {
    "ExecuteTime": {
     "end_time": "2025-03-09T17:40:02.215637Z",
     "start_time": "2025-03-09T17:40:00.175216Z"
    }
   },
   "source": [
    "import os\n",
    "\n",
    "os.environ[\"KERAS_BACKEND\"] = \"jax\"\n",
    "\n",
    "import numpy as np\n",
    "import pandas as pd\n",
    "\n",
    "from keras import models\n",
    "from keras import layers\n",
    "from keras import losses\n",
    "from keras import metrics\n",
    "\n",
    "import torchvision\n",
    "from torchvision import transforms\n",
    "from torch.utils.data import DataLoader\n",
    "\n",
    "import matplotlib.pyplot as plt\n",
    "from utils import CustomEvalDataset\n",
    "\n",
    "plt.style.use(\"seaborn-v0_8-notebook\")\n",
    "plt.style.use(\"petroff10\")"
   ],
   "outputs": [],
   "execution_count": 1
  },
  {
   "cell_type": "code",
   "metadata": {
    "ExecuteTime": {
     "end_time": "2025-03-09T17:40:02.234779Z",
     "start_time": "2025-03-09T17:40:02.218667Z"
    }
   },
   "source": [
    "to_numpy_array = lambda img: np.array(img, dtype=np.float32) / 255.0\n",
    "\n",
    "mnist_data_train = torchvision.datasets.MNIST(\n",
    "    \"./data\",\n",
    "    train=True,\n",
    "    download=True,\n",
    "    transform=to_numpy_array,\n",
    ")\n",
    "mnist_data_test = torchvision.datasets.MNIST(\n",
    "    \"./data\",\n",
    "    train=False,\n",
    "    download=True,\n",
    "    transform=to_numpy_array,\n",
    ")\n",
    "x_example, y_example = mnist_data_train[0]"
   ],
   "outputs": [],
   "execution_count": 2
  },
  {
   "cell_type": "code",
   "metadata": {
    "ExecuteTime": {
     "end_time": "2025-03-09T17:40:02.323174Z",
     "start_time": "2025-03-09T17:40:02.321071Z"
    }
   },
   "source": [
    "print(type(x_example), x_example.shape)"
   ],
   "outputs": [
    {
     "name": "stdout",
     "output_type": "stream",
     "text": [
      "<class 'numpy.ndarray'> (28, 28)\n"
     ]
    }
   ],
   "execution_count": 3
  },
  {
   "cell_type": "code",
   "metadata": {
    "ExecuteTime": {
     "end_time": "2025-03-09T17:40:02.328891Z",
     "start_time": "2025-03-09T17:40:02.325522Z"
    }
   },
   "source": [
    "x_example.max()"
   ],
   "outputs": [
    {
     "data": {
      "text/plain": [
       "np.float32(1.0)"
      ]
     },
     "execution_count": 4,
     "metadata": {},
     "output_type": "execute_result"
    }
   ],
   "execution_count": 4
  },
  {
   "cell_type": "code",
   "metadata": {
    "ExecuteTime": {
     "end_time": "2025-03-09T17:40:02.337992Z",
     "start_time": "2025-03-09T17:40:02.335756Z"
    }
   },
   "source": [
    "B = 32\n",
    "mnist_train_loader = DataLoader(mnist_data_train, batch_size=B, shuffle=True)\n",
    "mnist_test_loader = DataLoader(mnist_data_test, batch_size=B)"
   ],
   "outputs": [],
   "execution_count": 5
  },
  {
   "cell_type": "code",
   "metadata": {
    "ExecuteTime": {
     "end_time": "2025-03-09T17:40:02.345557Z",
     "start_time": "2025-03-09T17:40:02.343604Z"
    }
   },
   "source": [
    "# How many values are in the input? We use this to help determine the size of subsequent layers\n",
    "D = 28 * 28  # 28 * 28 images\n",
    "# How many channels are in the input?\n",
    "C = 1\n",
    "# How many classes are there?\n",
    "classes = 10\n",
    "# How many filters should we use\n",
    "filters = 16\n",
    "# how large should our filters be?\n",
    "K = 3"
   ],
   "outputs": [],
   "execution_count": 6
  },
  {
   "cell_type": "code",
   "metadata": {
    "ExecuteTime": {
     "end_time": "2025-03-09T17:40:02.352910Z",
     "start_time": "2025-03-09T17:40:02.351284Z"
    }
   },
   "source": [
    "x_shape = x_example.shape"
   ],
   "outputs": [],
   "execution_count": 7
  },
  {
   "cell_type": "code",
   "metadata": {
    "ExecuteTime": {
     "end_time": "2025-03-09T17:40:44.492490Z",
     "start_time": "2025-03-09T17:40:02.358522Z"
    }
   },
   "source": [
    "model_linear = models.Sequential(\n",
    "    [\n",
    "        layers.Input(shape=x_shape),\n",
    "        layers.Flatten(),\n",
    "        layers.Dense(256, activation=\"tanh\"),\n",
    "        layers.Dense(classes, activation=\"softmax\"),\n",
    "    ]\n",
    ")\n",
    "\n",
    "fc_callback_predict_test = CustomEvalDataset(datasets=mnist_test_loader)\n",
    "model_linear.compile(\n",
    "    optimizer=\"SGD\",\n",
    "    loss=losses.SparseCategoricalCrossentropy(),\n",
    "    metrics=[metrics.SparseCategoricalAccuracy()],\n",
    ")\n",
    "model_linear.fit(\n",
    "    mnist_train_loader, callbacks=[fc_callback_predict_test], epochs=20, verbose=2\n",
    ")"
   ],
   "outputs": [
    {
     "name": "stdout",
     "output_type": "stream",
     "text": [
      "Epoch 1/20\n",
      "1875/1875 - 3s - 2ms/step - loss: 0.5914 - sparse_categorical_accuracy: 0.8491\n",
      "Epoch 2/20\n",
      "1875/1875 - 2s - 1ms/step - loss: 0.3511 - sparse_categorical_accuracy: 0.9012\n",
      "Epoch 3/20\n",
      "1875/1875 - 2s - 1ms/step - loss: 0.3129 - sparse_categorical_accuracy: 0.9108\n",
      "Epoch 4/20\n",
      "1875/1875 - 2s - 1ms/step - loss: 0.2910 - sparse_categorical_accuracy: 0.9179\n",
      "Epoch 5/20\n",
      "1875/1875 - 2s - 1ms/step - loss: 0.2744 - sparse_categorical_accuracy: 0.9218\n",
      "Epoch 6/20\n",
      "1875/1875 - 2s - 1ms/step - loss: 0.2604 - sparse_categorical_accuracy: 0.9262\n",
      "Epoch 7/20\n",
      "1875/1875 - 2s - 1ms/step - loss: 0.2476 - sparse_categorical_accuracy: 0.9303\n",
      "Epoch 8/20\n",
      "1875/1875 - 2s - 1ms/step - loss: 0.2358 - sparse_categorical_accuracy: 0.9332\n",
      "Epoch 9/20\n",
      "1875/1875 - 2s - 1ms/step - loss: 0.2245 - sparse_categorical_accuracy: 0.9370\n",
      "Epoch 10/20\n",
      "1875/1875 - 2s - 1ms/step - loss: 0.2140 - sparse_categorical_accuracy: 0.9403\n",
      "Epoch 11/20\n",
      "1875/1875 - 2s - 1ms/step - loss: 0.2043 - sparse_categorical_accuracy: 0.9429\n",
      "Epoch 12/20\n",
      "1875/1875 - 2s - 1ms/step - loss: 0.1948 - sparse_categorical_accuracy: 0.9456\n",
      "Epoch 13/20\n",
      "1875/1875 - 2s - 1ms/step - loss: 0.1864 - sparse_categorical_accuracy: 0.9475\n",
      "Epoch 14/20\n",
      "1875/1875 - 2s - 1ms/step - loss: 0.1786 - sparse_categorical_accuracy: 0.9503\n",
      "Epoch 15/20\n",
      "1875/1875 - 2s - 1ms/step - loss: 0.1712 - sparse_categorical_accuracy: 0.9520\n",
      "Epoch 16/20\n",
      "1875/1875 - 2s - 1ms/step - loss: 0.1645 - sparse_categorical_accuracy: 0.9538\n",
      "Epoch 17/20\n",
      "1875/1875 - 2s - 1ms/step - loss: 0.1581 - sparse_categorical_accuracy: 0.9556\n",
      "Epoch 18/20\n",
      "1875/1875 - 2s - 1ms/step - loss: 0.1522 - sparse_categorical_accuracy: 0.9574\n",
      "Epoch 19/20\n",
      "1875/1875 - 2s - 1ms/step - loss: 0.1466 - sparse_categorical_accuracy: 0.9586\n",
      "Epoch 20/20\n",
      "1875/1875 - 2s - 1ms/step - loss: 0.1414 - sparse_categorical_accuracy: 0.9604\n"
     ]
    },
    {
     "data": {
      "text/plain": [
       "<keras.src.callbacks.history.History at 0x1066c9460>"
      ]
     },
     "execution_count": 8,
     "metadata": {},
     "output_type": "execute_result"
    }
   ],
   "execution_count": 8
  },
  {
   "cell_type": "code",
   "metadata": {
    "ExecuteTime": {
     "end_time": "2025-03-09T17:40:44.500529Z",
     "start_time": "2025-03-09T17:40:44.498081Z"
    }
   },
   "source": [
    "(1, *x_shape)"
   ],
   "outputs": [
    {
     "data": {
      "text/plain": [
       "(1, 28, 28)"
      ]
     },
     "execution_count": 9,
     "metadata": {},
     "output_type": "execute_result"
    }
   ],
   "execution_count": 9
  },
  {
   "cell_type": "code",
   "metadata": {
    "ExecuteTime": {
     "end_time": "2025-03-09T17:42:12.016106Z",
     "start_time": "2025-03-09T17:40:44.509663Z"
    }
   },
   "source": [
    "model_cnn = models.Sequential(\n",
    "    [\n",
    "        layers.Input(shape=x_shape),\n",
    "        layers.Reshape((1, *x_shape)),\n",
    "        layers.Conv2D(\n",
    "            filters=filters,\n",
    "            kernel_size=K,\n",
    "            padding=\"same\",\n",
    "            data_format=\"channels_first\",\n",
    "            activation=\"tanh\",\n",
    "        ),\n",
    "        layers.Flatten(),\n",
    "        layers.Dense(classes, activation=\"softmax\"),\n",
    "    ]\n",
    ")\n",
    "\n",
    "model_cnn.compile(\n",
    "    optimizer=\"SGD\",\n",
    "    loss=losses.SparseCategoricalCrossentropy(),\n",
    "    metrics=[metrics.SparseCategoricalAccuracy()],\n",
    ")\n",
    "\n",
    "cnn_callback_predict_test = CustomEvalDataset(datasets=mnist_test_loader)\n",
    "model_cnn.fit(\n",
    "    mnist_train_loader, callbacks=[cnn_callback_predict_test], epochs=20, verbose=2\n",
    ")"
   ],
   "outputs": [
    {
     "name": "stdout",
     "output_type": "stream",
     "text": [
      "Epoch 1/20\n",
      "1875/1875 - 6s - 3ms/step - loss: 0.4289 - sparse_categorical_accuracy: 0.8828\n",
      "Epoch 2/20\n",
      "1875/1875 - 5s - 2ms/step - loss: 0.2967 - sparse_categorical_accuracy: 0.9140\n",
      "Epoch 3/20\n",
      "1875/1875 - 4s - 2ms/step - loss: 0.2763 - sparse_categorical_accuracy: 0.9204\n",
      "Epoch 4/20\n",
      "1875/1875 - 4s - 2ms/step - loss: 0.2612 - sparse_categorical_accuracy: 0.9246\n",
      "Epoch 5/20\n",
      "1875/1875 - 4s - 2ms/step - loss: 0.2473 - sparse_categorical_accuracy: 0.9301\n",
      "Epoch 6/20\n",
      "1875/1875 - 4s - 2ms/step - loss: 0.2338 - sparse_categorical_accuracy: 0.9330\n",
      "Epoch 7/20\n",
      "1875/1875 - 4s - 2ms/step - loss: 0.2215 - sparse_categorical_accuracy: 0.9371\n",
      "Epoch 8/20\n",
      "1875/1875 - 4s - 2ms/step - loss: 0.2083 - sparse_categorical_accuracy: 0.9407\n",
      "Epoch 9/20\n",
      "1875/1875 - 4s - 2ms/step - loss: 0.1954 - sparse_categorical_accuracy: 0.9456\n",
      "Epoch 10/20\n",
      "1875/1875 - 5s - 2ms/step - loss: 0.1809 - sparse_categorical_accuracy: 0.9495\n",
      "Epoch 11/20\n",
      "1875/1875 - 6s - 3ms/step - loss: 0.1666 - sparse_categorical_accuracy: 0.9539\n",
      "Epoch 12/20\n",
      "1875/1875 - 7s - 4ms/step - loss: 0.1530 - sparse_categorical_accuracy: 0.9575\n",
      "Epoch 13/20\n",
      "1875/1875 - 4s - 2ms/step - loss: 0.1397 - sparse_categorical_accuracy: 0.9610\n",
      "Epoch 14/20\n",
      "1875/1875 - 5s - 2ms/step - loss: 0.1274 - sparse_categorical_accuracy: 0.9652\n",
      "Epoch 15/20\n",
      "1875/1875 - 4s - 2ms/step - loss: 0.1174 - sparse_categorical_accuracy: 0.9673\n",
      "Epoch 16/20\n",
      "1875/1875 - 4s - 2ms/step - loss: 0.1081 - sparse_categorical_accuracy: 0.9705\n",
      "Epoch 17/20\n",
      "1875/1875 - 4s - 2ms/step - loss: 0.1005 - sparse_categorical_accuracy: 0.9728\n",
      "Epoch 18/20\n",
      "1875/1875 - 4s - 2ms/step - loss: 0.0937 - sparse_categorical_accuracy: 0.9750\n",
      "Epoch 19/20\n",
      "1875/1875 - 4s - 2ms/step - loss: 0.0880 - sparse_categorical_accuracy: 0.9762\n",
      "Epoch 20/20\n",
      "1875/1875 - 4s - 2ms/step - loss: 0.0832 - sparse_categorical_accuracy: 0.9777\n"
     ]
    },
    {
     "data": {
      "text/plain": [
       "<keras.src.callbacks.history.History at 0x15c2da4e0>"
      ]
     },
     "execution_count": 10,
     "metadata": {},
     "output_type": "execute_result"
    }
   ],
   "execution_count": 10
  },
  {
   "cell_type": "code",
   "metadata": {
    "ExecuteTime": {
     "end_time": "2025-03-09T17:42:12.149896Z",
     "start_time": "2025-03-09T17:42:12.036685Z"
    }
   },
   "source": [
    "pd.DataFrame(\n",
    "    {\n",
    "        \"epochs\": np.arange(1, 21, 1),\n",
    "        \"test_fully connected neural network\": fc_callback_predict_test.list_metrics,\n",
    "        \"convolution neural network\": cnn_callback_predict_test.list_metrics,\n",
    "    }\n",
    ").set_index(\"epochs\").plot(ylabel=\"Accuracy\")"
   ],
   "outputs": [
    {
     "data": {
      "text/plain": [
       "<Axes: xlabel='epochs', ylabel='Accuracy'>"
      ]
     },
     "execution_count": 11,
     "metadata": {},
     "output_type": "execute_result"
    },
    {
     "data": {
      "text/plain": [
       "<Figure size 800x550 with 1 Axes>"
      ],
      "image/png": "[encoded data removed]"
     },
     "metadata": {},
     "output_type": "display_data"
    }
   ],
   "execution_count": 11
  },
  {
   "cell_type": "code",
   "metadata": {
    "ExecuteTime": {
     "end_time": "2025-03-09T17:42:12.158702Z",
     "start_time": "2025-03-09T17:42:12.156122Z"
    }
   },
   "source": [
    "mnist_data_train[0][0].shape"
   ],
   "outputs": [
    {
     "data": {
      "text/plain": [
       "(28, 28)"
      ]
     },
     "execution_count": 12,
     "metadata": {},
     "output_type": "execute_result"
    }
   ],
   "execution_count": 12
  },
  {
   "cell_type": "code",
   "metadata": {
    "ExecuteTime": {
     "end_time": "2025-03-09T17:42:12.230892Z",
     "start_time": "2025-03-09T17:42:12.172013Z"
    }
   },
   "source": [
    "img_indx = 0\n",
    "img, correct_class = mnist_data_train[img_indx]\n",
    "\n",
    "# move to the lower right, then upper left\n",
    "img_lr = np.roll(np.roll(img, 1, axis=1), 1, axis=0)\n",
    "img_ul = np.roll(np.roll(img, -1, axis=1), -1, axis=0)\n",
    "# plot the images\n",
    "f, axarr = plt.subplots(1, 3)\n",
    "axarr[0].imshow(img, cmap=\"gray\")\n",
    "axarr[1].imshow(img_lr, cmap=\"gray\")\n",
    "axarr[2].imshow(img_ul, cmap=\"gray\")\n",
    "plt.show()"
   ],
   "outputs": [
    {
     "data": {
      "text/plain": [
       "<Figure size 800x550 with 3 Axes>"
      ],
      "image/png": "[encoded data removed]"
     },
     "metadata": {},
     "output_type": "display_data"
    }
   ],
   "execution_count": 13
  },
  {
   "cell_type": "code",
   "metadata": {
    "ExecuteTime": {
     "end_time": "2025-03-09T17:42:12.279285Z",
     "start_time": "2025-03-09T17:42:12.241895Z"
    }
   },
   "source": [
    "img_pred = model_cnn.predict(img.reshape(1, 28, 28), verbose=0).ravel()\n",
    "img_lr_pred = model_cnn.predict(img_lr.reshape(1, 28, 28), verbose=0).ravel()\n",
    "img_ul_pred = model_cnn.predict(img_ul.reshape(1, 28, 28), verbose=0).ravel()\n",
    "\n",
    "print(\"Org Img Class {} Prob:         \".format(correct_class), img_pred[correct_class])\n",
    "print(\n",
    "    \"Lower Right Img Class {} Prob: \".format(correct_class), img_lr_pred[correct_class]\n",
    ")\n",
    "print(\n",
    "    \"Uper Left Img Class {} Prob:   \".format(correct_class), img_ul_pred[correct_class]\n",
    ")"
   ],
   "outputs": [
    {
     "name": "stdout",
     "output_type": "stream",
     "text": [
      "Org Img Class 5 Prob:          0.90055096\n",
      "Lower Right Img Class 5 Prob:  0.6680352\n",
      "Uper Left Img Class 5 Prob:    0.9414382\n"
     ]
    }
   ],
   "execution_count": 14
  },
  {
   "cell_type": "code",
   "metadata": {
    "ExecuteTime": {
     "end_time": "2025-03-09T17:53:23.102207Z",
     "start_time": "2025-03-09T17:42:12.289709Z"
    }
   },
   "source": [
    "model_cnn_pool = models.Sequential(\n",
    "    [\n",
    "        layers.Input(shape=x_shape),\n",
    "        layers.Reshape((1, *x_shape)),\n",
    "        layers.Conv2D(\n",
    "            filters=filters,\n",
    "            kernel_size=K,\n",
    "            padding=\"same\",\n",
    "            data_format=\"channels_first\",\n",
    "            activation=\"tanh\",\n",
    "        ),\n",
    "        layers.Conv2D(\n",
    "            filters=filters,\n",
    "            kernel_size=K,\n",
    "            padding=\"same\",\n",
    "            data_format=\"channels_first\",\n",
    "            activation=\"tanh\",\n",
    "        ),\n",
    "        layers.Conv2D(\n",
    "            filters=filters,\n",
    "            kernel_size=K,\n",
    "            padding=\"same\",\n",
    "            data_format=\"channels_first\",\n",
    "            activation=\"tanh\",\n",
    "        ),\n",
    "        layers.MaxPool2D(pool_size=(2, 2)),\n",
    "        layers.Conv2D(\n",
    "            filters=filters,\n",
    "            kernel_size=K,\n",
    "            padding=\"same\",\n",
    "            data_format=\"channels_first\",\n",
    "            activation=\"tanh\",\n",
    "        ),\n",
    "        layers.Conv2D(\n",
    "            filters=filters,\n",
    "            kernel_size=K,\n",
    "            padding=\"same\",\n",
    "            data_format=\"channels_first\",\n",
    "            activation=\"tanh\",\n",
    "        ),\n",
    "        layers.Conv2D(\n",
    "            filters=filters,\n",
    "            kernel_size=K,\n",
    "            padding=\"same\",\n",
    "            data_format=\"channels_first\",\n",
    "            activation=\"tanh\",\n",
    "        ),\n",
    "        layers.MaxPool2D(pool_size=(2, 2)),\n",
    "        layers.Flatten(),\n",
    "        layers.Dense(classes, activation=\"softmax\"),\n",
    "    ]\n",
    ")\n",
    "\n",
    "model_cnn_pool.compile(\n",
    "    optimizer=\"SGD\",\n",
    "    loss=losses.SparseCategoricalCrossentropy(),\n",
    "    metrics=[metrics.SparseCategoricalAccuracy()],\n",
    ")\n",
    "\n",
    "cnn_pool_callback_predict_test = CustomEvalDataset(datasets=mnist_test_loader)\n",
    "model_cnn_pool.fit(\n",
    "    mnist_train_loader, callbacks=[cnn_pool_callback_predict_test], epochs=20, verbose=2\n",
    ")"
   ],
   "outputs": [
    {
     "name": "stdout",
     "output_type": "stream",
     "text": [
      "Epoch 1/20\n",
      "1875/1875 - 35s - 18ms/step - loss: 0.3930 - sparse_categorical_accuracy: 0.8885\n",
      "Epoch 2/20\n",
      "1875/1875 - 33s - 18ms/step - loss: 0.1293 - sparse_categorical_accuracy: 0.9628\n",
      "Epoch 3/20\n",
      "1875/1875 - 34s - 18ms/step - loss: 0.0970 - sparse_categorical_accuracy: 0.9720\n",
      "Epoch 4/20\n",
      "1875/1875 - 37s - 20ms/step - loss: 0.0818 - sparse_categorical_accuracy: 0.9765\n",
      "Epoch 5/20\n",
      "1875/1875 - 33s - 18ms/step - loss: 0.0722 - sparse_categorical_accuracy: 0.9789\n",
      "Epoch 6/20\n",
      "1875/1875 - 35s - 19ms/step - loss: 0.0653 - sparse_categorical_accuracy: 0.9810\n",
      "Epoch 7/20\n",
      "1875/1875 - 33s - 18ms/step - loss: 0.0603 - sparse_categorical_accuracy: 0.9826\n",
      "Epoch 8/20\n",
      "1875/1875 - 34s - 18ms/step - loss: 0.0561 - sparse_categorical_accuracy: 0.9833\n",
      "Epoch 9/20\n",
      "1875/1875 - 32s - 17ms/step - loss: 0.0527 - sparse_categorical_accuracy: 0.9844\n",
      "Epoch 10/20\n",
      "1875/1875 - 35s - 19ms/step - loss: 0.0494 - sparse_categorical_accuracy: 0.9853\n",
      "Epoch 11/20\n",
      "1875/1875 - 33s - 18ms/step - loss: 0.0471 - sparse_categorical_accuracy: 0.9860\n",
      "Epoch 12/20\n",
      "1875/1875 - 34s - 18ms/step - loss: 0.0446 - sparse_categorical_accuracy: 0.9870\n",
      "Epoch 13/20\n",
      "1875/1875 - 33s - 18ms/step - loss: 0.0428 - sparse_categorical_accuracy: 0.9872\n",
      "Epoch 14/20\n",
      "1875/1875 - 33s - 18ms/step - loss: 0.0411 - sparse_categorical_accuracy: 0.9882\n",
      "Epoch 15/20\n",
      "1875/1875 - 32s - 17ms/step - loss: 0.0393 - sparse_categorical_accuracy: 0.9887\n",
      "Epoch 16/20\n",
      "1875/1875 - 34s - 18ms/step - loss: 0.0378 - sparse_categorical_accuracy: 0.9895\n",
      "Epoch 17/20\n",
      "1875/1875 - 33s - 17ms/step - loss: 0.0364 - sparse_categorical_accuracy: 0.9897\n",
      "Epoch 18/20\n",
      "1875/1875 - 32s - 17ms/step - loss: 0.0352 - sparse_categorical_accuracy: 0.9900\n",
      "Epoch 19/20\n",
      "1875/1875 - 32s - 17ms/step - loss: 0.0341 - sparse_categorical_accuracy: 0.9903\n",
      "Epoch 20/20\n",
      "1875/1875 - 32s - 17ms/step - loss: 0.0329 - sparse_categorical_accuracy: 0.9908\n"
     ]
    },
    {
     "data": {
      "text/plain": [
       "<keras.src.callbacks.history.History at 0x1566f6510>"
      ]
     },
     "execution_count": 15,
     "metadata": {},
     "output_type": "execute_result"
    }
   ],
   "execution_count": 15
  },
  {
   "cell_type": "code",
   "metadata": {
    "ExecuteTime": {
     "end_time": "2025-03-09T17:53:23.230126Z",
     "start_time": "2025-03-09T17:53:23.122726Z"
    }
   },
   "source": [
    "img_pred = model_cnn_pool.predict(img.reshape(1, 28, 28), verbose=0).ravel()\n",
    "img_lr_pred = model_cnn_pool.predict(img_lr.reshape(1, 28, 28), verbose=0).ravel()\n",
    "img_ul_pred = model_cnn_pool.predict(img_ul.reshape(1, 28, 28), verbose=0).ravel()\n",
    "\n",
    "print(\"Org Img Class {} Prob:         \".format(correct_class), img_pred[correct_class])\n",
    "print(\n",
    "    \"Lower Right Img Class {} Prob: \".format(correct_class), img_lr_pred[correct_class]\n",
    ")\n",
    "print(\n",
    "    \"Uper Left Img Class {} Prob:   \".format(correct_class), img_ul_pred[correct_class]\n",
    ")"
   ],
   "outputs": [
    {
     "name": "stdout",
     "output_type": "stream",
     "text": [
      "Org Img Class 5 Prob:          0.74255264\n",
      "Lower Right Img Class 5 Prob:  0.47280926\n",
      "Uper Left Img Class 5 Prob:    0.96664095\n"
     ]
    }
   ],
   "execution_count": 16
  },
  {
   "cell_type": "code",
   "metadata": {
    "ExecuteTime": {
     "end_time": "2025-03-09T17:53:23.396309Z",
     "start_time": "2025-03-09T17:53:23.232740Z"
    }
   },
   "source": [
    "# Several built-in transformations, given some agressive values to make their impact more obvious.\n",
    "sample_transforms = {\n",
    "    \"Rotation\": transforms.RandomAffine(degrees=45),\n",
    "    \"Translation\": transforms.RandomAffine(degrees=0, translate=(0.1, 0.1)),\n",
    "    \"Shear\": transforms.RandomAffine(degrees=0, shear=45),\n",
    "    \"RandomCrop\": transforms.RandomCrop((20, 20)),\n",
    "    \"Horizontal Flip\": transforms.RandomHorizontalFlip(p=1.0),\n",
    "    \"Vertical Flip\": transforms.RandomVerticalFlip(p=1.0),\n",
    "    \"Perspective\": transforms.RandomPerspective(p=1.0),\n",
    "    \"ColorJitter\": transforms.ColorJitter(brightness=0.9, contrast=0.9),\n",
    "}\n",
    "# Convert the Tensor image back to a PIL image using a transform\n",
    "pil_img = transforms.ToPILImage()(img)\n",
    "# Plot a randomy application of each transform\n",
    "_, axarr = plt.subplots(2, 4)\n",
    "for count, (name, t) in enumerate(sample_transforms.items()):\n",
    "    row = count % 4\n",
    "    col = count // 4\n",
    "    axarr[col, row].imshow(t(pil_img), cmap=\"gray\")\n",
    "    axarr[col, row].set_title(name)\n",
    "plt.show()"
   ],
   "outputs": [
    {
     "data": {
      "text/plain": [
       "<Figure size 800x550 with 8 Axes>"
      ],
      "image/png": "[encoded data removed]"
     },
     "metadata": {},
     "output_type": "display_data"
    }
   ],
   "execution_count": 17
  },
  {
   "cell_type": "code",
   "metadata": {
    "ExecuteTime": {
     "end_time": "2025-03-09T17:53:23.434173Z",
     "start_time": "2025-03-09T17:53:23.407307Z"
    }
   },
   "source": [
    "train_transform = transforms.Compose(\n",
    "    [\n",
    "        transforms.RandomAffine(degrees=5, translate=(0.05, 0.05), scale=(0.98, 1.02)),\n",
    "        to_numpy_array,\n",
    "    ]\n",
    ")\n",
    "\n",
    "test_transform = to_numpy_array\n",
    "\n",
    "mnist_train_t = torchvision.datasets.MNIST(\n",
    "    \"./data\", train=True, transform=train_transform\n",
    ")\n",
    "mnist_test_t = torchvision.datasets.MNIST(\n",
    "    \"./data\", train=False, transform=test_transform\n",
    ")\n",
    "mnist_train_loader_t = DataLoader(mnist_train_t, shuffle=True, batch_size=B)\n",
    "mnist_test_loader_t = DataLoader(mnist_test_t, batch_size=B)"
   ],
   "outputs": [],
   "execution_count": 18
  },
  {
   "cell_type": "code",
   "metadata": {
    "ExecuteTime": {
     "end_time": "2025-03-09T18:05:06.733719Z",
     "start_time": "2025-03-09T17:53:23.444744Z"
    }
   },
   "source": [
    "model_cnn_pool = models.Sequential(\n",
    "    [\n",
    "        layers.Input(shape=x_shape),\n",
    "        layers.Reshape((1, *x_shape)),\n",
    "        layers.Conv2D(\n",
    "            filters=filters,\n",
    "            kernel_size=K,\n",
    "            padding=\"same\",\n",
    "            data_format=\"channels_first\",\n",
    "            activation=\"tanh\",\n",
    "        ),\n",
    "        layers.Conv2D(\n",
    "            filters=filters,\n",
    "            kernel_size=K,\n",
    "            padding=\"same\",\n",
    "            data_format=\"channels_first\",\n",
    "            activation=\"tanh\",\n",
    "        ),\n",
    "        layers.Conv2D(\n",
    "            filters=filters,\n",
    "            kernel_size=K,\n",
    "            padding=\"same\",\n",
    "            data_format=\"channels_first\",\n",
    "            activation=\"tanh\",\n",
    "        ),\n",
    "        layers.MaxPool2D(pool_size=(2, 2)),\n",
    "        layers.Conv2D(\n",
    "            filters=filters,\n",
    "            kernel_size=K,\n",
    "            padding=\"same\",\n",
    "            data_format=\"channels_first\",\n",
    "            activation=\"tanh\",\n",
    "        ),\n",
    "        layers.Conv2D(\n",
    "            filters=filters,\n",
    "            kernel_size=K,\n",
    "            padding=\"same\",\n",
    "            data_format=\"channels_first\",\n",
    "            activation=\"tanh\",\n",
    "        ),\n",
    "        layers.Conv2D(\n",
    "            filters=filters,\n",
    "            kernel_size=K,\n",
    "            padding=\"same\",\n",
    "            data_format=\"channels_first\",\n",
    "            activation=\"tanh\",\n",
    "        ),\n",
    "        layers.MaxPool2D(pool_size=(2, 2)),\n",
    "        layers.Flatten(),\n",
    "        layers.Dense(classes, activation=\"softmax\"),\n",
    "    ]\n",
    ")\n",
    "\n",
    "model_cnn_pool.compile(\n",
    "    optimizer=\"SGD\",\n",
    "    loss=losses.SparseCategoricalCrossentropy(),\n",
    "    metrics=[metrics.SparseCategoricalAccuracy()],\n",
    ")\n",
    "cnn_pool_with_argu_callback_predict_test = CustomEvalDataset(datasets=mnist_test_loader)\n",
    "model_cnn_pool.fit(\n",
    "    mnist_train_loader_t,\n",
    "    callbacks=[cnn_pool_with_argu_callback_predict_test],\n",
    "    epochs=20,\n",
    "    verbose=2,\n",
    ")"
   ],
   "outputs": [
    {
     "name": "stdout",
     "output_type": "stream",
     "text": [
      "Epoch 1/20\n",
      "1875/1875 - 37s - 19ms/step - loss: 0.5366 - sparse_categorical_accuracy: 0.8434\n",
      "Epoch 2/20\n",
      "1875/1875 - 37s - 20ms/step - loss: 0.1714 - sparse_categorical_accuracy: 0.9494\n",
      "Epoch 3/20\n",
      "1875/1875 - 36s - 19ms/step - loss: 0.1239 - sparse_categorical_accuracy: 0.9630\n",
      "Epoch 4/20\n",
      "1875/1875 - 35s - 19ms/step - loss: 0.1045 - sparse_categorical_accuracy: 0.9692\n",
      "Epoch 5/20\n",
      "1875/1875 - 34s - 18ms/step - loss: 0.0924 - sparse_categorical_accuracy: 0.9719\n",
      "Epoch 6/20\n",
      "1875/1875 - 35s - 19ms/step - loss: 0.0841 - sparse_categorical_accuracy: 0.9746\n",
      "Epoch 7/20\n",
      "1875/1875 - 35s - 19ms/step - loss: 0.0761 - sparse_categorical_accuracy: 0.9767\n",
      "Epoch 8/20\n",
      "1875/1875 - 36s - 19ms/step - loss: 0.0705 - sparse_categorical_accuracy: 0.9788\n",
      "Epoch 9/20\n",
      "1875/1875 - 35s - 19ms/step - loss: 0.0659 - sparse_categorical_accuracy: 0.9796\n",
      "Epoch 10/20\n",
      "1875/1875 - 34s - 18ms/step - loss: 0.0615 - sparse_categorical_accuracy: 0.9814\n",
      "Epoch 11/20\n",
      "1875/1875 - 35s - 18ms/step - loss: 0.0616 - sparse_categorical_accuracy: 0.9812\n",
      "Epoch 12/20\n",
      "1875/1875 - 35s - 18ms/step - loss: 0.0558 - sparse_categorical_accuracy: 0.9831\n",
      "Epoch 13/20\n",
      "1875/1875 - 34s - 18ms/step - loss: 0.0553 - sparse_categorical_accuracy: 0.9833\n",
      "Epoch 14/20\n",
      "1875/1875 - 34s - 18ms/step - loss: 0.0531 - sparse_categorical_accuracy: 0.9839\n",
      "Epoch 15/20\n",
      "1875/1875 - 34s - 18ms/step - loss: 0.0502 - sparse_categorical_accuracy: 0.9846\n",
      "Epoch 16/20\n",
      "1875/1875 - 34s - 18ms/step - loss: 0.0491 - sparse_categorical_accuracy: 0.9852\n",
      "Epoch 17/20\n",
      "1875/1875 - 35s - 19ms/step - loss: 0.0475 - sparse_categorical_accuracy: 0.9858\n",
      "Epoch 18/20\n",
      "1875/1875 - 35s - 18ms/step - loss: 0.0465 - sparse_categorical_accuracy: 0.9859\n",
      "Epoch 19/20\n",
      "1875/1875 - 38s - 20ms/step - loss: 0.0445 - sparse_categorical_accuracy: 0.9858\n",
      "Epoch 20/20\n",
      "1875/1875 - 35s - 19ms/step - loss: 0.0441 - sparse_categorical_accuracy: 0.9863\n"
     ]
    },
    {
     "data": {
      "text/plain": [
       "<keras.src.callbacks.history.History at 0x17fcedb80>"
      ]
     },
     "execution_count": 19,
     "metadata": {},
     "output_type": "execute_result"
    }
   ],
   "execution_count": 19
  },
  {
   "cell_type": "code",
   "metadata": {
    "ExecuteTime": {
     "end_time": "2025-03-09T18:05:06.833685Z",
     "start_time": "2025-03-09T18:05:06.758832Z"
    }
   },
   "source": [
    "pd.DataFrame(\n",
    "    {\n",
    "        \"epochs\": np.arange(1, 21, 1),\n",
    "        \"CNN w/ Max Pooling\": cnn_pool_callback_predict_test.list_metrics,\n",
    "        \"CNN w/ Max Pooling + Augmentation\": cnn_pool_with_argu_callback_predict_test.list_metrics,\n",
    "    }\n",
    ").set_index(\"epochs\").plot(ylabel=\"Accuracy\")"
   ],
   "outputs": [
    {
     "data": {
      "text/plain": [
       "<Axes: xlabel='epochs', ylabel='Accuracy'>"
      ]
     },
     "execution_count": 20,
     "metadata": {},
     "output_type": "execute_result"
    },
    {
     "data": {
      "text/plain": [
       "<Figure size 800x550 with 1 Axes>"
      ],
      "image/png": "[encoded data removed]"
     },
     "metadata": {},
     "output_type": "display_data"
    }
   ],
   "execution_count": 20
  },
  {
   "cell_type": "code",
   "metadata": {
    "ExecuteTime": {
     "end_time": "2025-03-09T18:05:06.956990Z",
     "start_time": "2025-03-09T18:05:06.836481Z"
    }
   },
   "source": [
    "img_pred = model_cnn_pool.predict(img.reshape(1, 28, 28), verbose=0).ravel()\n",
    "img_lr_pred = model_cnn_pool.predict(img_lr.reshape(1, 28, 28), verbose=0).ravel()\n",
    "img_ul_pred = model_cnn_pool.predict(img_ul.reshape(1, 28, 28), verbose=0).ravel()\n",
    "\n",
    "print(\"Org Img Class {} Prob:         \".format(correct_class), img_pred[correct_class])\n",
    "print(\n",
    "    \"Lower Right Img Class {} Prob: \".format(correct_class), img_lr_pred[correct_class]\n",
    ")\n",
    "print(\n",
    "    \"Uper Left Img Class {} Prob:   \".format(correct_class), img_ul_pred[correct_class]\n",
    ")"
   ],
   "outputs": [
    {
     "name": "stdout",
     "output_type": "stream",
     "text": [
      "Org Img Class 5 Prob:          0.85202146\n",
      "Lower Right Img Class 5 Prob:  0.61125666\n",
      "Uper Left Img Class 5 Prob:    0.9564586\n"
     ]
    }
   ],
   "execution_count": 21
  }
 ],
 "metadata": {
  "kernelspec": {
   "display_name": "keras3",
   "language": "python",
   "name": "python3"
  },
  "language_info": {
   "codemirror_mode": {
    "name": "ipython",
    "version": 3
   },
   "file_extension": ".py",
   "mimetype": "text/x-python",
   "name": "python",
   "nbconvert_exporter": "python",
   "pygments_lexer": "ipython3",
   "version": "3.12.4"
  }
 },
 "nbformat": 4,
 "nbformat_minor": 2
}
